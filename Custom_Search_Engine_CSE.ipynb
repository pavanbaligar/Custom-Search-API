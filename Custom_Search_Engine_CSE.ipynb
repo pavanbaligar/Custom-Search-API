{
 "cells": [
  {
   "cell_type": "code",
   "execution_count": 1,
   "metadata": {
    "colab": {
     "base_uri": "https://localhost:8080/"
    },
    "id": "r4OIlU8qighF",
    "outputId": "2169df35-b636-4780-aabd-4f0ecea2837b"
   },
   "outputs": [
    {
     "name": "stdout",
     "output_type": "stream",
     "text": [
      "Requirement already satisfied: requests in /usr/local/lib/python3.10/dist-packages (2.32.3)\n",
      "Requirement already satisfied: charset-normalizer<4,>=2 in /usr/local/lib/python3.10/dist-packages (from requests) (3.4.0)\n",
      "Requirement already satisfied: idna<4,>=2.5 in /usr/local/lib/python3.10/dist-packages (from requests) (3.10)\n",
      "Requirement already satisfied: urllib3<3,>=1.21.1 in /usr/local/lib/python3.10/dist-packages (from requests) (2.2.3)\n",
      "Requirement already satisfied: certifi>=2017.4.17 in /usr/local/lib/python3.10/dist-packages (from requests) (2024.8.30)\n"
     ]
    }
   ],
   "source": [
    "!pip install requests\n"
   ]
  },
  {
   "cell_type": "code",
   "execution_count": null,
   "metadata": {
    "id": "d4dJvs-Cijke"
   },
   "outputs": [],
   "source": [
    "import os\n",
    "os.environ['GOOGLE_API_KEY'] = 'AIzaSyAY2xKN******************'\n",
    "os.environ['CSE_ID'] = '30679d9a**********'\n"
   ]
  },
  {
   "cell_type": "code",
   "execution_count": null,
   "metadata": {
    "colab": {
     "base_uri": "https://localhost:8080/"
    },
    "id": "AsqO7JVDmVV9",
    "outputId": "95aefeae-3560-4f17-c371-8204c9a8caa7"
   },
   "outputs": [
    {
     "name": "stdout",
     "output_type": "stream",
     "text": [
      "Enter your search query: HI\n",
      "1. Hawaii.gov | The Official Website of the Aloha State\n",
      "   https://portal.ehawaii.gov/\n",
      "   The official website of the Aloha State. Home Search Search Online Services | Government Directory Latest News Agencies State Calendar State Officials Social ...\n",
      "\n",
      "2. Web3 Neobank | Trade, Save & Spend Crypto & Fiat | hi\n",
      "   https://hi.com/\n",
      "   Buy, Trade, Send and Earn Crypto & Fiat. Deposit Bitcoin, ETH, USDT and other cryptos and start earning. Get the hi Debit Card and Multi-Currency IBAN ...\n",
      "\n",
      "3. Hi Definition & Meaning - Merriam-Webster\n",
      "   https://www.merriam-webster.com/dictionary/hi\n",
      "   5 days ago ... The meaning of HI is —used especially as a greeting. How to use hi in a sentence.\n",
      "\n",
      "4. Hawaii State Judiciary\n",
      "   https://www.courts.state.hi.us/\n",
      "   The Judiciary is one of three branches of state government in Hawai`i. The other two are the executive and legislative branches.\n",
      "\n",
      "5. HI Definition & Meaning | Dictionary.com\n",
      "   https://www.dictionary.com/browse/hi\n",
      "   1. [ hahy ] Phonetic (Standard) IPA interjection hi 2. [ hahy ] Phonetic (Standard) IPA adjective an informal, simplified spelling of high: hi fidelity.\n",
      "\n"
     ]
    }
   ],
   "source": [
    "import requests\n",
    "\n",
    "def google_custom_search(api_key, cse_id, query, num_results=5):\n",
    "    \"\"\"\n",
    "    Uses Google Custom Search API to retrieve search results.\n",
    "\n",
    "    Parameters:\n",
    "    - api_key (str): Your Google API key\n",
    "    - cse_id (str): Your Custom Search Engine ID\n",
    "    - query (str): The search term\n",
    "    - num_results (int): Number of search results to return (1 to 10)\n",
    "\n",
    "    Returns:\n",
    "    - List of dictionaries, each containing 'title', 'link', and 'snippet' for the search result.\n",
    "    \"\"\"\n",
    "    # Define the API endpoint\n",
    "    url = \"https://www.googleapis.com/customsearch/v1\"\n",
    "\n",
    "    # Set up parameters for the request\n",
    "    params = {\n",
    "        \"key\": api_key,\n",
    "        \"cx\": cse_id,\n",
    "        \"q\": query,\n",
    "        \"num\": min(max(1, num_results), 10)  # Ensure 'num' is between 1 and 10\n",
    "    }\n",
    "\n",
    "    try:\n",
    "        # Make the API request\n",
    "        response = requests.get(url, params=params)\n",
    "        response.raise_for_status()  # Check if the request was successful\n",
    "\n",
    "        # Parse the search results from JSON\n",
    "        search_results = response.json().get(\"items\", [])\n",
    "        return [{\"title\": item[\"title\"], \"link\": item[\"link\"], \"snippet\": item[\"snippet\"]} for item in search_results]\n",
    "\n",
    "    except requests.exceptions.RequestException as e:\n",
    "        print(\"Error with the request:\", e)\n",
    "        return None\n",
    "    except KeyError:\n",
    "        print(\"Unexpected response format.\")\n",
    "        return None\n",
    "\n",
    "# Replace these with your actual API Key and Custom Search Engine ID\n",
    "API_KEY = \"AIzaSyCqxq21RFW384****************\"\n",
    "CSE_ID = \"30679d***********\"\n",
    "\n",
    "# Input the search query\n",
    "query = input(\"Enter your search query: \")\n",
    "\n",
    "# Perform the search\n",
    "results = google_custom_search(API_KEY, CSE_ID, query)\n",
    "\n",
    "# Display the results\n",
    "if results:\n",
    "    for i, result in enumerate(results, start=1):\n",
    "        print(f\"{i}. {result['title']}\\n   {result['link']}\\n   {result['snippet']}\\n\")\n",
    "else:\n",
    "    print(\"No results found.\")\n"
   ]
  },
  {
   "cell_type": "code",
   "execution_count": null,
   "metadata": {
    "colab": {
     "base_uri": "https://localhost:8080/"
    },
    "id": "P-X58-RrmVxD",
    "outputId": "2b5fb6e8-e911-4aed-8e38-44a405d1d6c2"
   },
   "outputs": [
    {
     "name": "stdout",
     "output_type": "stream",
     "text": [
      "Enter your search query: NATURE\n",
      "\n",
      "Top Image Results:\n",
      "1. https://natureconservancy-h.assetsadobe.com/is/image/content/dam/tnc/nature/en/photos/w/o/WOPA160517_D056-resized.jpg?crop=864%2C0%2C1728%2C2304&wid=600&hei=800&scl=2.88\n",
      "2. https://corporate.walmart.com/content/corporate/en_us/purpose/sustainability/planet/nature/jcr:content/par/image_2_0.img.png/1693432526985.png\n",
      "3. https://natureconservancy-h.assetsadobe.com/is/image/content/dam/tnc/nature/en/photos/Zugpsitze_mountain.jpg?crop=0%2C176%2C3008%2C1654&wid=4000&hei=2200&scl=0.752\n",
      "4. https://images.squarespace-cdn.com/content/v1/61c4da8eb1b30a201b9669f2/e2e0e62f-0064-4f86-b9d8-5a55cb7110ca/Korembi-January-2024.jpg\n",
      "5. https://natureconservancy-h.assetsadobe.com/is/image/content/dam/tnc/nature/en/photos/Zugpsitze_mountain.jpg?crop=0%2C214%2C3008%2C1579&wid=1200&hei=630&scl=2.506666666666667\n"
     ]
    }
   ],
   "source": [
    "import requests\n",
    "\n",
    "def google_custom_search(api_key, cse_id, query, num_results=5):\n",
    "    \"\"\"\n",
    "    Uses Google Custom Search API to retrieve image search results.\n",
    "\n",
    "    Parameters:\n",
    "    - api_key (str): Your Google API key\n",
    "    - cse_id (str): Your Custom Search Engine ID\n",
    "    - query (str): The search term\n",
    "    - num_results (int): Number of search results to return (1 to 10)\n",
    "\n",
    "    Returns:\n",
    "    - List of image URLs corresponding to the search query.\n",
    "    \"\"\"\n",
    "    # Define the API endpoint\n",
    "    url = \"https://www.googleapis.com/customsearch/v1\"\n",
    "\n",
    "    # Set up parameters for the request\n",
    "    params = {\n",
    "        \"key\": api_key,\n",
    "        \"cx\": cse_id,\n",
    "        \"q\": query,\n",
    "        \"searchType\": \"image\",  # Specify that we want image search results\n",
    "        \"num\": min(max(1, num_results), 10)  # Ensure 'num' is between 1 and 10\n",
    "    }\n",
    "\n",
    "    try:\n",
    "        # Make the API request\n",
    "        response = requests.get(url, params=params)\n",
    "        response.raise_for_status()  # Check if the request was successful\n",
    "\n",
    "        # Parse the search results from JSON\n",
    "        search_results = response.json().get(\"items\", [])\n",
    "\n",
    "        # Retrieve image URLs from the search results\n",
    "        image_urls = [item[\"link\"] for item in search_results]\n",
    "        return image_urls\n",
    "\n",
    "    except requests.exceptions.RequestException as e:\n",
    "        print(\"Error with the request:\", e)\n",
    "        return None\n",
    "    except KeyError:\n",
    "        print(\"Unexpected response format.\")\n",
    "        return None\n",
    "\n",
    "# Replace these with your actual API Key and Custom Search Engine ID\n",
    "API_KEY = \"AIzaSyCqxq21R*************\"\n",
    "CSE_ID = \"30679d9********\"\n",
    "\n",
    "# Input the search query\n",
    "query = input(\"Enter your search query: \")\n",
    "\n",
    "# Perform the search\n",
    "results = google_custom_search(API_KEY, CSE_ID, query)\n",
    "\n",
    "# Display the results (Image URLs)\n",
    "if results:\n",
    "    print(\"\\nTop Image Results:\")\n",
    "    for i, img_url in enumerate(results, start=1):\n",
    "        print(f\"{i}. {img_url}\")\n",
    "else:\n",
    "    print(\"No results found.\")\n"
   ]
  },
  {
   "cell_type": "code",
   "execution_count": 11,
   "metadata": {
    "colab": {
     "base_uri": "https://localhost:8080/"
    },
    "id": "w8WyzYk4oADq",
    "outputId": "4bb62f81-a8b0-4c59-d67e-099f133be723"
   },
   "outputs": [
    {
     "name": "stdout",
     "output_type": "stream",
     "text": [
      "Requirement already satisfied: google-generativeai in /usr/local/lib/python3.10/dist-packages (0.8.3)\n",
      "Requirement already satisfied: google-ai-generativelanguage==0.6.10 in /usr/local/lib/python3.10/dist-packages (from google-generativeai) (0.6.10)\n",
      "Requirement already satisfied: google-api-core in /usr/local/lib/python3.10/dist-packages (from google-generativeai) (2.19.2)\n",
      "Requirement already satisfied: google-api-python-client in /usr/local/lib/python3.10/dist-packages (from google-generativeai) (2.151.0)\n",
      "Requirement already satisfied: google-auth>=2.15.0 in /usr/local/lib/python3.10/dist-packages (from google-generativeai) (2.27.0)\n",
      "Requirement already satisfied: protobuf in /usr/local/lib/python3.10/dist-packages (from google-generativeai) (4.25.5)\n",
      "Requirement already satisfied: pydantic in /usr/local/lib/python3.10/dist-packages (from google-generativeai) (2.10.3)\n",
      "Requirement already satisfied: tqdm in /usr/local/lib/python3.10/dist-packages (from google-generativeai) (4.66.6)\n",
      "Requirement already satisfied: typing-extensions in /usr/local/lib/python3.10/dist-packages (from google-generativeai) (4.12.2)\n",
      "Requirement already satisfied: proto-plus<2.0.0dev,>=1.22.3 in /usr/local/lib/python3.10/dist-packages (from google-ai-generativelanguage==0.6.10->google-generativeai) (1.25.0)\n",
      "Requirement already satisfied: googleapis-common-protos<2.0.dev0,>=1.56.2 in /usr/local/lib/python3.10/dist-packages (from google-api-core->google-generativeai) (1.66.0)\n",
      "Requirement already satisfied: requests<3.0.0.dev0,>=2.18.0 in /usr/local/lib/python3.10/dist-packages (from google-api-core->google-generativeai) (2.32.3)\n",
      "Requirement already satisfied: cachetools<6.0,>=2.0.0 in /usr/local/lib/python3.10/dist-packages (from google-auth>=2.15.0->google-generativeai) (5.5.0)\n",
      "Requirement already satisfied: pyasn1-modules>=0.2.1 in /usr/local/lib/python3.10/dist-packages (from google-auth>=2.15.0->google-generativeai) (0.4.1)\n",
      "Requirement already satisfied: rsa<5,>=3.1.4 in /usr/local/lib/python3.10/dist-packages (from google-auth>=2.15.0->google-generativeai) (4.9)\n",
      "Requirement already satisfied: httplib2<1.dev0,>=0.19.0 in /usr/local/lib/python3.10/dist-packages (from google-api-python-client->google-generativeai) (0.22.0)\n",
      "Requirement already satisfied: google-auth-httplib2<1.0.0,>=0.2.0 in /usr/local/lib/python3.10/dist-packages (from google-api-python-client->google-generativeai) (0.2.0)\n",
      "Requirement already satisfied: uritemplate<5,>=3.0.1 in /usr/local/lib/python3.10/dist-packages (from google-api-python-client->google-generativeai) (4.1.1)\n",
      "Requirement already satisfied: annotated-types>=0.6.0 in /usr/local/lib/python3.10/dist-packages (from pydantic->google-generativeai) (0.7.0)\n",
      "Requirement already satisfied: pydantic-core==2.27.1 in /usr/local/lib/python3.10/dist-packages (from pydantic->google-generativeai) (2.27.1)\n",
      "Requirement already satisfied: grpcio<2.0dev,>=1.33.2 in /usr/local/lib/python3.10/dist-packages (from google-api-core[grpc]!=2.0.*,!=2.1.*,!=2.10.*,!=2.2.*,!=2.3.*,!=2.4.*,!=2.5.*,!=2.6.*,!=2.7.*,!=2.8.*,!=2.9.*,<3.0.0dev,>=1.34.1->google-ai-generativelanguage==0.6.10->google-generativeai) (1.68.1)\n",
      "Requirement already satisfied: grpcio-status<2.0.dev0,>=1.33.2 in /usr/local/lib/python3.10/dist-packages (from google-api-core[grpc]!=2.0.*,!=2.1.*,!=2.10.*,!=2.2.*,!=2.3.*,!=2.4.*,!=2.5.*,!=2.6.*,!=2.7.*,!=2.8.*,!=2.9.*,<3.0.0dev,>=1.34.1->google-ai-generativelanguage==0.6.10->google-generativeai) (1.62.3)\n",
      "Requirement already satisfied: pyparsing!=3.0.0,!=3.0.1,!=3.0.2,!=3.0.3,<4,>=2.4.2 in /usr/local/lib/python3.10/dist-packages (from httplib2<1.dev0,>=0.19.0->google-api-python-client->google-generativeai) (3.2.0)\n",
      "Requirement already satisfied: pyasn1<0.7.0,>=0.4.6 in /usr/local/lib/python3.10/dist-packages (from pyasn1-modules>=0.2.1->google-auth>=2.15.0->google-generativeai) (0.6.1)\n",
      "Requirement already satisfied: charset-normalizer<4,>=2 in /usr/local/lib/python3.10/dist-packages (from requests<3.0.0.dev0,>=2.18.0->google-api-core->google-generativeai) (3.4.0)\n",
      "Requirement already satisfied: idna<4,>=2.5 in /usr/local/lib/python3.10/dist-packages (from requests<3.0.0.dev0,>=2.18.0->google-api-core->google-generativeai) (3.10)\n",
      "Requirement already satisfied: urllib3<3,>=1.21.1 in /usr/local/lib/python3.10/dist-packages (from requests<3.0.0.dev0,>=2.18.0->google-api-core->google-generativeai) (2.2.3)\n",
      "Requirement already satisfied: certifi>=2017.4.17 in /usr/local/lib/python3.10/dist-packages (from requests<3.0.0.dev0,>=2.18.0->google-api-core->google-generativeai) (2024.8.30)\n"
     ]
    }
   ],
   "source": [
    "pip install google-generativeai\n"
   ]
  },
  {
   "cell_type": "code",
   "execution_count": null,
   "metadata": {
    "colab": {
     "base_uri": "https://localhost:8080/",
     "height": 349
    },
    "id": "bOQy0LglpZRd",
    "outputId": "efd549d3-de8d-4c15-db3d-f08912514085"
   },
   "outputs": [
    {
     "name": "stdout",
     "output_type": "stream",
     "text": [
      "Enter your query (type 'exit' to quit): hey there\n",
      "Response: Hey there! How can I help you today?\n",
      "\n",
      "Enter your query (type 'exit' to quit): tell me something what happened today in india\n",
      "Response: Today, October 27th, 2023, in India,  there's no single dominant news story that's universally headline-grabbing.  News cycles in India are very dynamic. To give you relevant information, I'd need to know what aspects of Indian news you're most interested in (politics, business, sports, etc.).\n",
      "\n",
      "However,  typical ongoing news themes in India might include:  political developments at the state and national level,  economic indicators and business news,  updates on the monsoon season's impact,  and various social and cultural events.\n",
      "\n",
      "To get the most current and specific information, I recommend checking reputable Indian news sources online.\n",
      "\n",
      "Enter your query (type 'exit' to quit): okay thats great \n",
      "Response: Great! Is there anything I can help you with?\n",
      "\n",
      "Enter your query (type 'exit' to quit): bye\n",
      "Response: Bye!  Have a great day/evening/night!\n",
      "\n",
      "Enter your query (type 'exit' to quit): exit\n",
      "Goodbye!\n"
     ]
    }
   ],
   "source": [
    "import google.generativeai as genai\n",
    "\n",
    "# Configure the API key\n",
    "genai.configure(api_key=\"AIzaSyAGQYh8WkTJlE1***************\")  # Replace with your actual API key\n",
    "\n",
    "# Initialize the Gemini model (choose the appropriate model)\n",
    "model = genai.GenerativeModel(\"gemini-1.5-flash\")  # You can change the model name if needed\n",
    "\n",
    "def process_input(user_input):\n",
    "    try:\n",
    "        # Generate a response using the Gemini model\n",
    "        response = model.generate_content(user_input)\n",
    "        return response.text\n",
    "    except Exception as e:\n",
    "        return f\"There was an issue generating a response: {str(e)}\"\n",
    "\n",
    "def main():\n",
    "    while True:\n",
    "        # Get user input\n",
    "        user_input = input(\"Enter your query (type 'exit' to quit): \")\n",
    "\n",
    "        if user_input.lower() == 'exit':\n",
    "            print(\"Goodbye!\")\n",
    "            break\n",
    "\n",
    "        # Get the response for the input\n",
    "        output = process_input(user_input)\n",
    "        print(f\"Response: {output}\")\n",
    "\n",
    "if __name__ == \"__main__\":\n",
    "    main()\n"
   ]
  }
 ],
 "metadata": {
  "colab": {
   "provenance": []
  },
  "kernelspec": {
   "display_name": "Python 3",
   "name": "python3"
  },
  "language_info": {
   "name": "python"
  }
 },
 "nbformat": 4,
 "nbformat_minor": 0
}
